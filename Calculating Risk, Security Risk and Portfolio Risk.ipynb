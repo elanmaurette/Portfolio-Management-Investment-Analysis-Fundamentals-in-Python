{
 "cells": [
  {
   "cell_type": "code",
   "execution_count": 1,
   "id": "1e6e30f1",
   "metadata": {},
   "outputs": [],
   "source": [
    "# Install must-have Packages for finance\n",
    "\n",
    "import math as m\n",
    "import numpy as np\n",
    "import pandas as pd\n",
    "from pandas_datareader import data as wb\n",
    "import yfinance as yf\n",
    "import matplotlib.pyplot as plt"
   ]
  },
  {
   "cell_type": "code",
   "execution_count": 2,
   "id": "d24705d3",
   "metadata": {},
   "outputs": [
    {
     "name": "stdout",
     "output_type": "stream",
     "text": [
      "[*********************100%***********************]  2 of 2 completed\n"
     ]
    }
   ],
   "source": [
    "# a. Create a data set that contains information about Apple and Microsoft. We will examine the behavior of the two stocks\n",
    "#for the past 15 years, retrieving data from the 1st of january 2007\n",
    "tickers = ['MSFT', 'AAPL'] \n",
    "new_data = pd.DataFrame()\n",
    "new_data = yf.download(tickers, start = '2007-01-01', end='2022-12-01')['Adj Close']"
   ]
  },
  {
   "cell_type": "code",
   "execution_count": 3,
   "id": "509688a7",
   "metadata": {},
   "outputs": [
    {
     "data": {
      "text/html": [
       "<div>\n",
       "<style scoped>\n",
       "    .dataframe tbody tr th:only-of-type {\n",
       "        vertical-align: middle;\n",
       "    }\n",
       "\n",
       "    .dataframe tbody tr th {\n",
       "        vertical-align: top;\n",
       "    }\n",
       "\n",
       "    .dataframe thead th {\n",
       "        text-align: right;\n",
       "    }\n",
       "</style>\n",
       "<table border=\"1\" class=\"dataframe\">\n",
       "  <thead>\n",
       "    <tr style=\"text-align: right;\">\n",
       "      <th></th>\n",
       "      <th>AAPL</th>\n",
       "      <th>MSFT</th>\n",
       "    </tr>\n",
       "    <tr>\n",
       "      <th>Date</th>\n",
       "      <th></th>\n",
       "      <th></th>\n",
       "    </tr>\n",
       "  </thead>\n",
       "  <tbody>\n",
       "    <tr>\n",
       "      <th>2022-11-23</th>\n",
       "      <td>151.070007</td>\n",
       "      <td>247.580002</td>\n",
       "    </tr>\n",
       "    <tr>\n",
       "      <th>2022-11-25</th>\n",
       "      <td>148.110001</td>\n",
       "      <td>247.490005</td>\n",
       "    </tr>\n",
       "    <tr>\n",
       "      <th>2022-11-28</th>\n",
       "      <td>144.220001</td>\n",
       "      <td>241.759995</td>\n",
       "    </tr>\n",
       "    <tr>\n",
       "      <th>2022-11-29</th>\n",
       "      <td>141.169998</td>\n",
       "      <td>240.330002</td>\n",
       "    </tr>\n",
       "    <tr>\n",
       "      <th>2022-11-30</th>\n",
       "      <td>148.029999</td>\n",
       "      <td>255.139999</td>\n",
       "    </tr>\n",
       "  </tbody>\n",
       "</table>\n",
       "</div>"
      ],
      "text/plain": [
       "                  AAPL        MSFT\n",
       "Date                              \n",
       "2022-11-23  151.070007  247.580002\n",
       "2022-11-25  148.110001  247.490005\n",
       "2022-11-28  144.220001  241.759995\n",
       "2022-11-29  141.169998  240.330002\n",
       "2022-11-30  148.029999  255.139999"
      ]
     },
     "execution_count": 3,
     "metadata": {},
     "output_type": "execute_result"
    }
   ],
   "source": [
    "#The standard deviation of a company's returns can also be called a risk or volatility \n",
    "#A stock whose returns show large deviation from its mean is said to be more volatile. A volatile stock is much likelier to\n",
    "#deviate from its historical returns and surprise investors\n",
    "#That is the way we measure the variability of a financial security\n",
    "new_data.tail()"
   ]
  },
  {
   "cell_type": "code",
   "execution_count": 4,
   "id": "5ccd9725",
   "metadata": {},
   "outputs": [],
   "source": [
    "#First we take the logarithmic returns because we will examine each company separately in the given timeframe\n",
    "#This approach will tell us more about the behavior of the stock\n",
    "#We will store this data in a new table called security returns\n",
    "sec_returns = np.log(new_data / new_data.shift(1))"
   ]
  },
  {
   "cell_type": "code",
   "execution_count": 5,
   "id": "b0c7bd8f",
   "metadata": {},
   "outputs": [
    {
     "data": {
      "text/html": [
       "<div>\n",
       "<style scoped>\n",
       "    .dataframe tbody tr th:only-of-type {\n",
       "        vertical-align: middle;\n",
       "    }\n",
       "\n",
       "    .dataframe tbody tr th {\n",
       "        vertical-align: top;\n",
       "    }\n",
       "\n",
       "    .dataframe thead th {\n",
       "        text-align: right;\n",
       "    }\n",
       "</style>\n",
       "<table border=\"1\" class=\"dataframe\">\n",
       "  <thead>\n",
       "    <tr style=\"text-align: right;\">\n",
       "      <th></th>\n",
       "      <th>AAPL</th>\n",
       "      <th>MSFT</th>\n",
       "    </tr>\n",
       "    <tr>\n",
       "      <th>Date</th>\n",
       "      <th></th>\n",
       "      <th></th>\n",
       "    </tr>\n",
       "  </thead>\n",
       "  <tbody>\n",
       "    <tr>\n",
       "      <th>2007-01-03</th>\n",
       "      <td>NaN</td>\n",
       "      <td>NaN</td>\n",
       "    </tr>\n",
       "    <tr>\n",
       "      <th>2007-01-04</th>\n",
       "      <td>0.021953</td>\n",
       "      <td>-0.001676</td>\n",
       "    </tr>\n",
       "    <tr>\n",
       "      <th>2007-01-05</th>\n",
       "      <td>-0.007147</td>\n",
       "      <td>-0.005719</td>\n",
       "    </tr>\n",
       "    <tr>\n",
       "      <th>2007-01-08</th>\n",
       "      <td>0.004926</td>\n",
       "      <td>0.009736</td>\n",
       "    </tr>\n",
       "    <tr>\n",
       "      <th>2007-01-09</th>\n",
       "      <td>0.079799</td>\n",
       "      <td>0.001002</td>\n",
       "    </tr>\n",
       "    <tr>\n",
       "      <th>...</th>\n",
       "      <td>...</td>\n",
       "      <td>...</td>\n",
       "    </tr>\n",
       "    <tr>\n",
       "      <th>2022-11-23</th>\n",
       "      <td>0.005909</td>\n",
       "      <td>0.010353</td>\n",
       "    </tr>\n",
       "    <tr>\n",
       "      <th>2022-11-25</th>\n",
       "      <td>-0.019788</td>\n",
       "      <td>-0.000364</td>\n",
       "    </tr>\n",
       "    <tr>\n",
       "      <th>2022-11-28</th>\n",
       "      <td>-0.026615</td>\n",
       "      <td>-0.023425</td>\n",
       "    </tr>\n",
       "    <tr>\n",
       "      <th>2022-11-29</th>\n",
       "      <td>-0.021375</td>\n",
       "      <td>-0.005932</td>\n",
       "    </tr>\n",
       "    <tr>\n",
       "      <th>2022-11-30</th>\n",
       "      <td>0.047450</td>\n",
       "      <td>0.059799</td>\n",
       "    </tr>\n",
       "  </tbody>\n",
       "</table>\n",
       "<p>4007 rows × 2 columns</p>\n",
       "</div>"
      ],
      "text/plain": [
       "                AAPL      MSFT\n",
       "Date                          \n",
       "2007-01-03       NaN       NaN\n",
       "2007-01-04  0.021953 -0.001676\n",
       "2007-01-05 -0.007147 -0.005719\n",
       "2007-01-08  0.004926  0.009736\n",
       "2007-01-09  0.079799  0.001002\n",
       "...              ...       ...\n",
       "2022-11-23  0.005909  0.010353\n",
       "2022-11-25 -0.019788 -0.000364\n",
       "2022-11-28 -0.026615 -0.023425\n",
       "2022-11-29 -0.021375 -0.005932\n",
       "2022-11-30  0.047450  0.059799\n",
       "\n",
       "[4007 rows x 2 columns]"
      ]
     },
     "execution_count": 5,
     "metadata": {},
     "output_type": "execute_result"
    }
   ],
   "source": [
    "#The table contains the log returns of Apple and Microsoft respectively, this allows us to obtain the mean and the \n",
    "#standard deviation of the two stocks for the data frame\n",
    "sec_returns"
   ]
  },
  {
   "cell_type": "code",
   "execution_count": 6,
   "id": "101339e5",
   "metadata": {},
   "outputs": [
    {
     "data": {
      "text/plain": [
       "0.0010136957705033308"
      ]
     },
     "execution_count": 6,
     "metadata": {},
     "output_type": "execute_result"
    }
   ],
   "source": [
    "#Let's calculate the mean, the average daily return\n",
    "sec_returns['AAPL'].mean()"
   ]
  },
  {
   "cell_type": "code",
   "execution_count": 7,
   "id": "1e0fe888",
   "metadata": {},
   "outputs": [
    {
     "data": {
      "text/plain": [
       "0.25342394262583273"
      ]
     },
     "execution_count": 7,
     "metadata": {},
     "output_type": "execute_result"
    }
   ],
   "source": [
    "#To obtain the average annual return we multiply it by 250\n",
    "sec_returns['AAPL'].mean() * 250"
   ]
  },
  {
   "cell_type": "code",
   "execution_count": 8,
   "id": "77e4ac79",
   "metadata": {},
   "outputs": [
    {
     "data": {
      "text/plain": [
       "0.02041886708858115"
      ]
     },
     "execution_count": 8,
     "metadata": {},
     "output_type": "execute_result"
    }
   ],
   "source": [
    "# b. Let's calculate and measure a security risk\n",
    "\n",
    "#The same logic must be applied to the calculation of the volatility of this company's stock using the standard deviation\n",
    "#Also we need to calculate the annual std\n",
    "sec_returns['AAPL'].std()"
   ]
  },
  {
   "cell_type": "code",
   "execution_count": 9,
   "id": "908880f2",
   "metadata": {},
   "outputs": [
    {
     "data": {
      "text/plain": [
       "0.32285063620083765"
      ]
     },
     "execution_count": 9,
     "metadata": {},
     "output_type": "execute_result"
    }
   ],
   "source": [
    "sec_returns['AAPL'].std() * 250 ** 0.5"
   ]
  },
  {
   "cell_type": "code",
   "execution_count": 10,
   "id": "32fd8e99",
   "metadata": {},
   "outputs": [
    {
     "data": {
      "text/plain": [
       "0.000616042558389348"
      ]
     },
     "execution_count": 10,
     "metadata": {},
     "output_type": "execute_result"
    }
   ],
   "source": [
    "#We repeat the same procedure to the Microsoft stock\n",
    "sec_returns['MSFT'].mean()"
   ]
  },
  {
   "cell_type": "code",
   "execution_count": 11,
   "id": "95b7d8f4",
   "metadata": {},
   "outputs": [
    {
     "data": {
      "text/plain": [
       "0.15401063959733702"
      ]
     },
     "execution_count": 11,
     "metadata": {},
     "output_type": "execute_result"
    }
   ],
   "source": [
    "sec_returns['MSFT'].mean() * 250"
   ]
  },
  {
   "cell_type": "code",
   "execution_count": 12,
   "id": "3f525447",
   "metadata": {},
   "outputs": [
    {
     "data": {
      "text/plain": [
       "0.01797536868141854"
      ]
     },
     "execution_count": 12,
     "metadata": {},
     "output_type": "execute_result"
    }
   ],
   "source": [
    "sec_returns['MSFT'].std()"
   ]
  },
  {
   "cell_type": "code",
   "execution_count": 13,
   "id": "42cf0ea6",
   "metadata": {},
   "outputs": [
    {
     "data": {
      "text/plain": [
       "0.28421553407270095"
      ]
     },
     "execution_count": 13,
     "metadata": {},
     "output_type": "execute_result"
    }
   ],
   "source": [
    "sec_returns['MSFT'].std() * 250 ** 0.5 "
   ]
  },
  {
   "cell_type": "code",
   "execution_count": 15,
   "id": "ecc1fc32",
   "metadata": {},
   "outputs": [
    {
     "name": "stdout",
     "output_type": "stream",
     "text": [
      "0.25342394262583273\n",
      "0.15401063959733702\n"
     ]
    }
   ],
   "source": [
    "#It would be easy to interpret the result if we calculate the mean and standard deviation next to each other\n",
    "print (sec_returns['AAPL'].mean() * 250)\n",
    "print (sec_returns['MSFT'].mean() * 250)\n",
    "#Conclusion: AAPL stock has experienced a greater average annual return in the last 15 years than Microsoft"
   ]
  },
  {
   "cell_type": "code",
   "execution_count": 16,
   "id": "d0b3fc40",
   "metadata": {},
   "outputs": [
    {
     "name": "stdout",
     "output_type": "stream",
     "text": [
      "0.32285063620083765\n",
      "0.28421553407270095\n"
     ]
    }
   ],
   "source": [
    "print (sec_returns['AAPL'].std() * 250 ** 0.5)\n",
    "print (sec_returns['MSFT'].std() * 250 ** 0.5)\n",
    "#Conclusion: AAPL stock has a greater average annual variation from its mean therefore is more volatile\n",
    "#This reinforces the notion that stocks with a higher expected return often embed more risk \n",
    "#Apple rate of return is higher, however, this comes at the expense of higher volatility"
   ]
  },
  {
   "cell_type": "code",
   "execution_count": 20,
   "id": "3fd6d65e",
   "metadata": {},
   "outputs": [
    {
     "data": {
      "text/plain": [
       "0.0004169301331811425"
      ]
     },
     "execution_count": 20,
     "metadata": {},
     "output_type": "execute_result"
    }
   ],
   "source": [
    "#c. Next let's try to calculate the covariance and correlation between the prices of this two companies.\n",
    "\n",
    "#Different industries are influenced by many factors in a different way. This concept is very important because \n",
    "#having portfolio diversification gives you protection as an investor if things don't go well in a certain industry.\n",
    "\n",
    "#By buying shares of companies in the same industry, your portfolio could be exposed to excessive risk for \n",
    "#the same level of expected return. \n",
    "\n",
    "#There is a relationship between the prices of different companies and it is very important to understand \n",
    "#what causes this relationship and how to measurement to build optimal investment portfolios.\n",
    "\n",
    "#Measuring relationships between stocks \n",
    "#Covariance: The representation of the way two or more variables relate to each other. \n",
    "# If covar > 0 --> The two variables move in the same direction\n",
    "# If covar < 0 --> The two variables move in the opposite direction\n",
    "# If covar = 0 --> The two variables are independent\n",
    "\n",
    "#Correlation: Correlation adjust covariance, so the relationship between two variables become easy and intuitive to interpret\n",
    "#Correlation = 1 --> Perfect positive correlation, means the variables are directly proportionate\n",
    "#Correlation between 0 and 1--> Imperfect positive correlation, means there are several variables that determines the result\n",
    "#Correlation = 0 --> No correlation, the two variables have nothing in common. \n",
    "#Correlation between 0 and -1 --> Imperfect negative correlation, the two variables move in opposite directions.\n",
    "#Correlation = -1 --> Perfect negative correlation.\n",
    "\n",
    "#First we calculate the VARIANCE of the stock prices and we annualize this values right after that \n",
    "\n",
    "AAPL_var = sec_returns['AAPL'].var()\n",
    "AAPL_var"
   ]
  },
  {
   "cell_type": "code",
   "execution_count": 22,
   "id": "c654bafd",
   "metadata": {},
   "outputs": [
    {
     "data": {
      "text/plain": [
       "0.0003231138792329226"
      ]
     },
     "execution_count": 22,
     "metadata": {},
     "output_type": "execute_result"
    }
   ],
   "source": [
    "MSFT_var = sec_returns['MSFT'].var()\n",
    "MSFT_var"
   ]
  },
  {
   "cell_type": "code",
   "execution_count": 23,
   "id": "3dfadff2",
   "metadata": {},
   "outputs": [
    {
     "data": {
      "text/plain": [
       "0.10423253329528562"
      ]
     },
     "execution_count": 23,
     "metadata": {},
     "output_type": "execute_result"
    }
   ],
   "source": [
    "AAPL_var_a = sec_returns['AAPL'].var() * 250\n",
    "AAPL_var_a"
   ]
  },
  {
   "cell_type": "code",
   "execution_count": 25,
   "id": "dc67d720",
   "metadata": {},
   "outputs": [
    {
     "data": {
      "text/plain": [
       "0.08077846980823065"
      ]
     },
     "execution_count": 25,
     "metadata": {},
     "output_type": "execute_result"
    }
   ],
   "source": [
    "MSFT_var_a = sec_returns['MSFT'].var() * 250\n",
    "MSFT_var_a"
   ]
  },
  {
   "cell_type": "code",
   "execution_count": 26,
   "id": "843b0481",
   "metadata": {},
   "outputs": [
    {
     "data": {
      "text/html": [
       "<div>\n",
       "<style scoped>\n",
       "    .dataframe tbody tr th:only-of-type {\n",
       "        vertical-align: middle;\n",
       "    }\n",
       "\n",
       "    .dataframe tbody tr th {\n",
       "        vertical-align: top;\n",
       "    }\n",
       "\n",
       "    .dataframe thead th {\n",
       "        text-align: right;\n",
       "    }\n",
       "</style>\n",
       "<table border=\"1\" class=\"dataframe\">\n",
       "  <thead>\n",
       "    <tr style=\"text-align: right;\">\n",
       "      <th></th>\n",
       "      <th>AAPL</th>\n",
       "      <th>MSFT</th>\n",
       "    </tr>\n",
       "  </thead>\n",
       "  <tbody>\n",
       "    <tr>\n",
       "      <th>AAPL</th>\n",
       "      <td>0.000417</td>\n",
       "      <td>0.000210</td>\n",
       "    </tr>\n",
       "    <tr>\n",
       "      <th>MSFT</th>\n",
       "      <td>0.000210</td>\n",
       "      <td>0.000323</td>\n",
       "    </tr>\n",
       "  </tbody>\n",
       "</table>\n",
       "</div>"
      ],
      "text/plain": [
       "          AAPL      MSFT\n",
       "AAPL  0.000417  0.000210\n",
       "MSFT  0.000210  0.000323"
      ]
     },
     "execution_count": 26,
     "metadata": {},
     "output_type": "execute_result"
    }
   ],
   "source": [
    "#Then we Calculate the Covariance using\n",
    "#The Cove Method that computes pairwise covariance of columns\n",
    "cov_matrix = sec_returns.cov()\n",
    "cov_matrix"
   ]
  },
  {
   "cell_type": "code",
   "execution_count": 27,
   "id": "e150a60a",
   "metadata": {},
   "outputs": [
    {
     "data": {
      "text/html": [
       "<div>\n",
       "<style scoped>\n",
       "    .dataframe tbody tr th:only-of-type {\n",
       "        vertical-align: middle;\n",
       "    }\n",
       "\n",
       "    .dataframe tbody tr th {\n",
       "        vertical-align: top;\n",
       "    }\n",
       "\n",
       "    .dataframe thead th {\n",
       "        text-align: right;\n",
       "    }\n",
       "</style>\n",
       "<table border=\"1\" class=\"dataframe\">\n",
       "  <thead>\n",
       "    <tr style=\"text-align: right;\">\n",
       "      <th></th>\n",
       "      <th>AAPL</th>\n",
       "      <th>MSFT</th>\n",
       "    </tr>\n",
       "  </thead>\n",
       "  <tbody>\n",
       "    <tr>\n",
       "      <th>AAPL</th>\n",
       "      <td>0.104233</td>\n",
       "      <td>0.052490</td>\n",
       "    </tr>\n",
       "    <tr>\n",
       "      <th>MSFT</th>\n",
       "      <td>0.052490</td>\n",
       "      <td>0.080778</td>\n",
       "    </tr>\n",
       "  </tbody>\n",
       "</table>\n",
       "</div>"
      ],
      "text/plain": [
       "          AAPL      MSFT\n",
       "AAPL  0.104233  0.052490\n",
       "MSFT  0.052490  0.080778"
      ]
     },
     "execution_count": 27,
     "metadata": {},
     "output_type": "execute_result"
    }
   ],
   "source": [
    "cov_matrix = sec_returns.cov() * 250\n",
    "cov_matrix\n",
    "\n",
    "#Let's examine the table, the cell in the top left corner show us the annual covariance of the AAPL stock\n",
    "#The cell in the bottom right corner represents the annual covariance of the MSFT stock\n",
    "#The remaining two cells show the same value, because the covariance between AAPL and MSFT is the same \n",
    "\n",
    "#Interpretation of the results: # If covar > 0 --> The two variables move in the same direction"
   ]
  },
  {
   "cell_type": "code",
   "execution_count": 28,
   "id": "80332001",
   "metadata": {},
   "outputs": [
    {
     "data": {
      "text/html": [
       "<div>\n",
       "<style scoped>\n",
       "    .dataframe tbody tr th:only-of-type {\n",
       "        vertical-align: middle;\n",
       "    }\n",
       "\n",
       "    .dataframe tbody tr th {\n",
       "        vertical-align: top;\n",
       "    }\n",
       "\n",
       "    .dataframe thead th {\n",
       "        text-align: right;\n",
       "    }\n",
       "</style>\n",
       "<table border=\"1\" class=\"dataframe\">\n",
       "  <thead>\n",
       "    <tr style=\"text-align: right;\">\n",
       "      <th></th>\n",
       "      <th>AAPL</th>\n",
       "      <th>MSFT</th>\n",
       "    </tr>\n",
       "  </thead>\n",
       "  <tbody>\n",
       "    <tr>\n",
       "      <th>AAPL</th>\n",
       "      <td>1.000000</td>\n",
       "      <td>0.572046</td>\n",
       "    </tr>\n",
       "    <tr>\n",
       "      <th>MSFT</th>\n",
       "      <td>0.572046</td>\n",
       "      <td>1.000000</td>\n",
       "    </tr>\n",
       "  </tbody>\n",
       "</table>\n",
       "</div>"
      ],
      "text/plain": [
       "          AAPL      MSFT\n",
       "AAPL  1.000000  0.572046\n",
       "MSFT  0.572046  1.000000"
      ]
     },
     "execution_count": 28,
     "metadata": {},
     "output_type": "execute_result"
    }
   ],
   "source": [
    "#Then we Calculate the Correlation\n",
    "#with the help of the Corr Method\n",
    "corr_matrix = sec_returns.corr()\n",
    "corr_matrix\n",
    "\n",
    "#Let's examine the table,\n",
    "#Along the main diagonal we see exactly 1, because we divide the variance by the same values, so it make sense the movement\n",
    "#of a stock is perfectly correlated with itself.\n",
    "\n",
    "#As was the case with covariance matrix, the other two cells in the correlation table contains the same number, \n",
    "#They tell us the stock returns of the two companies are SLIGHTLY correlated\n",
    "\n",
    "#Be careful, this is not the correlation between the price of the two equities, this is the correlation between returns\n",
    "#Correlation between prices and correlation between returns may show different values \n",
    "#The correlation between returns reflects the dependence between prices at different times and focuses on \n",
    "#the returns of your portfolio rather than on stock price levels.\n",
    "\n",
    "#Finally don't fall into the trap of annualizing the correlation table. It does not contain average daily values, \n",
    "#It shows us the relation that exists between the two variables. \n",
    "\n",
    "#This means if we only invest on these two stocks we will be exposed to the same factors that affect the tech industry.\n",
    "#By buying shares of companies in the same industry, your portfolio could be exposed to excessive risk \n",
    "#for the same level of expected return."
   ]
  },
  {
   "cell_type": "code",
   "execution_count": 29,
   "id": "79aa79bd",
   "metadata": {},
   "outputs": [],
   "source": [
    "# d. Portfolio Variance & Portfolio Risk\n",
    "#Consider a portfolio of at least two stocks, if a portfolio contains two stocks, its risk will be a function of \n",
    "#the variances of the two stocks and the correlation between them.\n",
    "#It is reasonable when comparing portfolios, to expect a portfolio containing companies from the same industry to have a \n",
    "#different risk compared to a portfolio containing multiple industries.\n",
    "#The difference will be given by the relationship between the prices of the two companies in the portfolio.\n",
    "\n",
    "#The calculation of a portfolio variance depends on two things,\n",
    "#The variance of the securities contained in the portfolio, the standard deviation of the stocks.\n",
    "#The correlation between these stocks, the products of the covariance between securities and theis standard deviation.\n",
    "\n",
    "#Assuming that we have an equally weighted portfolio invested 50% in Apple and 50% in Microsoft\n",
    "weights = np.array([0.5, 0.5])\n"
   ]
  },
  {
   "cell_type": "code",
   "execution_count": 30,
   "id": "6ff57a3d",
   "metadata": {},
   "outputs": [
    {
     "data": {
      "text/plain": [
       "0.0724979727599856"
      ]
     },
     "execution_count": 30,
     "metadata": {},
     "output_type": "execute_result"
    }
   ],
   "source": [
    "# Calculating Portfolio Variance \n",
    "pfolio_var = np.dot(weights.T, np.dot(sec_returns.cov() * 250, weights))\n",
    "pfolio_var\n",
    "#Portfolio Variance: measure of the dispersion of returns of a portfolio.\n",
    "#in this case low variance is associated with lower risk and a lower return."
   ]
  },
  {
   "cell_type": "code",
   "execution_count": 31,
   "id": "94e1eb92",
   "metadata": {},
   "outputs": [
    {
     "data": {
      "text/plain": [
       "0.26925447584020884"
      ]
     },
     "execution_count": 31,
     "metadata": {},
     "output_type": "execute_result"
    }
   ],
   "source": [
    "# Calculating Portfolio Volatility\n",
    "pfolio_vol = np.dot(weights.T, np.dot(sec_returns.cov() * 250, weights)) ** 0.5\n",
    "pfolio_vol\n",
    "#Portfolio Volatility: measure of portfolio risk, meaning a portfolio's tendency to deviate from its mean return. "
   ]
  },
  {
   "cell_type": "code",
   "execution_count": 34,
   "id": "21877080",
   "metadata": {},
   "outputs": [
    {
     "name": "stdout",
     "output_type": "stream",
     "text": [
      "26.93%\n"
     ]
    }
   ],
   "source": [
    "print (str(round(pfolio_vol, 4) * 100) + '%')"
   ]
  },
  {
   "cell_type": "code",
   "execution_count": 35,
   "id": "87b883d9",
   "metadata": {},
   "outputs": [],
   "source": [
    "#There are two types of investment risk, systematic and unsystematic risk\n",
    "\n",
    "#Systematic risk: This component depends on the variance of each individual security. \n",
    "#It is also known as \"un-diversifiable\" risk. Systematic risk is made of the day to day changes and is caused by events\n",
    "#that affect all companies like recession, wars, forces of nature & low consumer spending.\n",
    "#The uncertainty arising from systematic risk is something we have to accept when investing.\n",
    "#Fortunately, a lot can be done the second component.\n",
    "\n",
    "#Unsystematic risk:Idiosyncratic risk, also known as company specific risk. Driven by company-specific events.\n",
    "#These are risk that can be smoothed out through diversification, academic research has shown if we build a portfolio\n",
    "#containing at least 25 to 30 stocks that are not correlated, unsystematic risk will almost disappear.\n",
    "#Investment vehicles tracking indicies are well diversified like the 500 index. \n",
    "#If you own a portfolio of 500 stocks, the only risk you are exposed to is systematic risk.\n",
    "\n",
    "#CONCLUSION: Diversifiable risk can be eliminated if we invest in non-correlated assets\n",
    "\n",
    "#Calculating diversifiable and non-diversifiable risk of a portfolio \n",
    "\n",
    "weights2 = np.array([0.5, 0.5])"
   ]
  },
  {
   "cell_type": "code",
   "execution_count": 36,
   "id": "76659cc7",
   "metadata": {},
   "outputs": [
    {
     "data": {
      "text/plain": [
       "0.5"
      ]
     },
     "execution_count": 36,
     "metadata": {},
     "output_type": "execute_result"
    }
   ],
   "source": [
    "weights2[0]"
   ]
  },
  {
   "cell_type": "code",
   "execution_count": 37,
   "id": "a1578c4d",
   "metadata": {},
   "outputs": [
    {
     "data": {
      "text/plain": [
       "0.5"
      ]
     },
     "execution_count": 37,
     "metadata": {},
     "output_type": "execute_result"
    }
   ],
   "source": [
    "weights2[1]"
   ]
  },
  {
   "cell_type": "code",
   "execution_count": 42,
   "id": "bb1d22cd",
   "metadata": {},
   "outputs": [
    {
     "data": {
      "text/plain": [
       "0.026245221984106528"
      ]
     },
     "execution_count": 42,
     "metadata": {},
     "output_type": "execute_result"
    }
   ],
   "source": [
    "# Estimating diversifiable risk by \n",
    "# Diversifiable Risk = Portfolio variance - Weighted annual varianceS\n",
    "dr = pfolio_var - (weights2[0] ** 2 * AAPL_var_a) - (weights2[1] ** 2 * MSFT_var_a)\n",
    "dr"
   ]
  },
  {
   "cell_type": "code",
   "execution_count": 39,
   "id": "c8879689",
   "metadata": {},
   "outputs": [
    {
     "name": "stdout",
     "output_type": "stream",
     "text": [
      "2.625%\n"
     ]
    }
   ],
   "source": [
    "print (str(round(dr*100, 3)) + '%')"
   ]
  },
  {
   "cell_type": "code",
   "execution_count": 41,
   "id": "73cc3e89",
   "metadata": {},
   "outputs": [
    {
     "data": {
      "text/plain": [
       "0.046252750775879065"
      ]
     },
     "execution_count": 41,
     "metadata": {},
     "output_type": "execute_result"
    }
   ],
   "source": [
    "# NON-Diversifiable Risk = Summatory of the Weighted annual varianceS or\n",
    "# NON-Diversifiable Risk = portfolio variance - diversifiable risk\n",
    "n_dr_1 = pfolio_var - dr \n",
    "n_dr_1"
   ]
  },
  {
   "cell_type": "code",
   "execution_count": 44,
   "id": "f8e0d367",
   "metadata": {},
   "outputs": [
    {
     "data": {
      "text/plain": [
       "0.046252750775879065"
      ]
     },
     "execution_count": 44,
     "metadata": {},
     "output_type": "execute_result"
    }
   ],
   "source": [
    "n_dr_2 = (weights2[0] ** 2 * AAPL_var_a) + (weights2[1] ** 2 * MSFT_var_a)\n",
    "n_dr_2 "
   ]
  },
  {
   "cell_type": "code",
   "execution_count": 47,
   "id": "357f1e36",
   "metadata": {},
   "outputs": [
    {
     "data": {
      "text/plain": [
       "True"
      ]
     },
     "execution_count": 47,
     "metadata": {},
     "output_type": "execute_result"
    }
   ],
   "source": [
    "n_dr_1 == n_dr_2"
   ]
  },
  {
   "cell_type": "code",
   "execution_count": null,
   "id": "35187f2a",
   "metadata": {},
   "outputs": [],
   "source": []
  }
 ],
 "metadata": {
  "kernelspec": {
   "display_name": "Python 3 (ipykernel)",
   "language": "python",
   "name": "python3"
  },
  "language_info": {
   "codemirror_mode": {
    "name": "ipython",
    "version": 3
   },
   "file_extension": ".py",
   "mimetype": "text/x-python",
   "name": "python",
   "nbconvert_exporter": "python",
   "pygments_lexer": "ipython3",
   "version": "3.9.12"
  }
 },
 "nbformat": 4,
 "nbformat_minor": 5
}
